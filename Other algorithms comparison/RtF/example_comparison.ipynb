{
 "cells": [
  {
   "cell_type": "code",
   "execution_count": 1,
   "id": "a00a09c9",
   "metadata": {},
   "outputs": [],
   "source": [
    "# Load required libraries\n",
    "import torch\n",
    "from torch import optim\n",
    "import copy\n",
    "import numpy as np\n",
    "# -custom-written libraries\n",
    "import utils\n",
    "from data.load import get_context_set\n",
    "from models.classifier import Classifier\n",
    "from train import train_cl\n",
    "from eval import evaluate, callbacks as cb\n",
    "from visual import visual_plt"
   ]
  },
  {
   "cell_type": "code",
   "execution_count": 2,
   "id": "cb0539a1",
   "metadata": {},
   "outputs": [],
   "source": [
    "# Enable plotting in the notebook\n",
    "%matplotlib inline  "
   ]
  },
  {
   "cell_type": "code",
   "execution_count": 3,
   "id": "57e3b84a",
   "metadata": {},
   "outputs": [
    {
     "name": "stdout",
     "output_type": "stream",
     "text": [
      "CUDA is used\n"
     ]
    }
   ],
   "source": [
    "# Is cuda available?\n",
    "cuda = torch.cuda.is_available()\n",
    "device = torch.device(\"cuda\" if cuda else \"cpu\")\n",
    "print(\"CUDA is {}used\".format(\"\" if cuda else \"not \"))"
   ]
  },
  {
   "cell_type": "markdown",
   "id": "320f9e43",
   "metadata": {},
   "source": [
    "## DATA: Prepare the data"
   ]
  },
  {
   "cell_type": "code",
   "execution_count": 4,
   "id": "c6ead555",
   "metadata": {},
   "outputs": [],
   "source": [
    "# Specify what kind of continual learning experiment we should run\n",
    "experiment = \"splitMNIST\"  #--> create context set by splitting up the MNIST dataset\n",
    "contexts = 5               #--> split the dataset up into how many contexts?\n",
    "iters = 500                #--> number of iterations per context\n",
    "batch = 128                #--> number of samples per iteration (i.e., the mini-batch size)"
   ]
  },
  {
   "cell_type": "code",
   "execution_count": 5,
   "id": "28298d14",
   "metadata": {},
   "outputs": [],
   "source": [
    "# Specify according to which scenario the continual learning experiment should be performed?\n",
    "scenario = \"class\""
   ]
  },
  {
   "cell_type": "code",
   "execution_count": 6,
   "id": "2746c66a",
   "metadata": {},
   "outputs": [],
   "source": [
    "# Where is, or should, the data be stored?\n",
    "d_dir = './store/datasets'"
   ]
  },
  {
   "cell_type": "code",
   "execution_count": 8,
   "id": "d9b6f329",
   "metadata": {},
   "outputs": [
    {
     "name": "stdout",
     "output_type": "stream",
     "text": [
      " --> MNIST: 'train'-dataset consisting of 60000 samples\n",
      " --> MNIST: 'test'-dataset consisting of 10000 samples\n"
     ]
    }
   ],
   "source": [
    "# Load the context set (both train- and test-data) for the specified continual learning experiment\n",
    "(train_datasets, test_datasets), config = get_context_set(\n",
    "    name=experiment, scenario=scenario, contexts=contexts, data_dir=d_dir, verbose=True, exception=True,\n",
    ")"
   ]
  },
  {
   "cell_type": "markdown",
   "id": "51fc95ea",
   "metadata": {},
   "source": [
    "## CLASSIFIER: Specify the classifier network"
   ]
  },
  {
   "cell_type": "code",
   "execution_count": 9,
   "id": "06a212fa",
   "metadata": {},
   "outputs": [],
   "source": [
    "# Specify the architectural layout of the network to use\n",
    "fc_lay = 3        #--> number of fully-connected layers\n",
    "fc_units = 400    #--> number of units in each hidden layer\n",
    "fc_bn = False     #--> use batch-norm\n",
    "fc_nl = \"relu\"    #--> what non-linearity to use?"
   ]
  },
  {
   "cell_type": "code",
   "execution_count": 10,
   "id": "a9749091",
   "metadata": {},
   "outputs": [],
   "source": [
    "# Define the model\n",
    "model = Classifier(\n",
    "    image_size=config['size'], image_channels=config['channels'], classes=config['output_units'],\n",
    "    # -conv-layers are not used\n",
    "    depth=0,\n",
    "    # -fc-layers\n",
    "    fc_layers=fc_lay, fc_units=fc_units, fc_bn=fc_bn, fc_nl=fc_nl, excit_buffer=True,\n",
    ").to(device)"
   ]
  },
  {
   "cell_type": "code",
   "execution_count": 11,
   "id": "d6b15c63",
   "metadata": {},
   "outputs": [],
   "source": [
    "# Indicate to model what scenario it will be trained on and how many classes there are in each context\n",
    "model.scenario = scenario\n",
    "model.classes_per_context = config['classes_per_context']"
   ]
  },
  {
   "cell_type": "code",
   "execution_count": 12,
   "id": "749dc0cd",
   "metadata": {},
   "outputs": [
    {
     "name": "stdout",
     "output_type": "stream",
     "text": [
      "-------------------------------------------------------\n",
      "Classifier(\n",
      "  (convE): ConvLayers(\n",
      "    (pooling): Identity()\n",
      "  )\n",
      "  (flatten): Flatten()\n",
      "  (fcE): MLP(\n",
      "    (fcLayer1): fc_layer(\n",
      "      (linear): LinearExcitability(in_features=784, out_features=400)\n",
      "      (nl): ReLU()\n",
      "    )\n",
      "    (fcLayer2): fc_layer(\n",
      "      (linear): LinearExcitability(in_features=400, out_features=400)\n",
      "      (nl): ReLU()\n",
      "    )\n",
      "  )\n",
      "  (classifier): fc_layer(\n",
      "    (linear): LinearExcitability(in_features=400, out_features=10)\n",
      "  )\n",
      ")\n",
      "-------------------------------------------------------\n",
      "--> this network has 478410 parameters (~0.5 million)\n",
      "       of which: - learnable: 478410 (~0.5 million)\n",
      "                 - fixed: 0 (~0.0 million)\n"
     ]
    }
   ],
   "source": [
    "# Print layout of the model to the screen\n",
    "utils.print_model_info(model)"
   ]
  },
  {
   "cell_type": "markdown",
   "id": "91b36dc3",
   "metadata": {},
   "source": [
    "#### Create several copies of the network, which each will be trained with a different continual learning method "
   ]
  },
  {
   "cell_type": "code",
   "execution_count": 13,
   "id": "6b421901",
   "metadata": {},
   "outputs": [],
   "source": [
    "# -baseline\n",
    "model_naive = copy.deepcopy(model)\n",
    "# -different continual learning methods (each method illustrates a different strategy)\n",
    "model_si = copy.deepcopy(model)\n",
    "model_lwf = copy.deepcopy(model)\n",
    "model_er = copy.deepcopy(model)\n",
    "if scenario==\"task\":\n",
    "    model_xdg = copy.deepcopy(model)\n",
    "if scenario==\"class\":\n",
    "    model_icarl = copy.deepcopy(model)"
   ]
  },
  {
   "cell_type": "markdown",
   "id": "10f44613",
   "metadata": {},
   "source": [
    "## CL-STRATEGY: Specify the continual learning strategy to use"
   ]
  },
  {
   "cell_type": "markdown",
   "id": "50eb0638",
   "metadata": {},
   "source": [
    "### Parameter Regularization"
   ]
  },
  {
   "cell_type": "code",
   "execution_count": 14,
   "id": "456d55be",
   "metadata": {},
   "outputs": [],
   "source": [
    "# Synaptic Intelligence (SI)\n",
    "model_si.weight_penalty = True\n",
    "model_si.importance_weighting = 'si'\n",
    "model_si.reg_strength = 100."
   ]
  },
  {
   "cell_type": "markdown",
   "id": "a1b72b02",
   "metadata": {},
   "source": [
    "### Functional Regularization"
   ]
  },
  {
   "cell_type": "code",
   "execution_count": 15,
   "id": "c59bc386",
   "metadata": {},
   "outputs": [],
   "source": [
    "# Learning without Forgetting (LwF)\n",
    "model_lwf.replay_mode = 'current'\n",
    "model_lwf.replay_targets = 'soft'\n",
    "model_lwf.KD_temp = 2.\n",
    "model_lwf.lwf_weighting = True"
   ]
  },
  {
   "cell_type": "markdown",
   "id": "02317fbe",
   "metadata": {},
   "source": [
    "### Replay"
   ]
  },
  {
   "cell_type": "code",
   "execution_count": 16,
   "id": "82668e74",
   "metadata": {},
   "outputs": [],
   "source": [
    "# Experience Replay (ER)\n",
    "model_er.replay_mode = 'buffer'\n",
    "model_er.use_memory_buffer = True\n",
    "model_er.budget_per_class = 100\n",
    "model_er.sample_selection = 'random'"
   ]
  },
  {
   "cell_type": "markdown",
   "id": "c320705b",
   "metadata": {},
   "source": [
    "### Context-specific components"
   ]
  },
  {
   "cell_type": "code",
   "execution_count": 17,
   "id": "70237101",
   "metadata": {},
   "outputs": [],
   "source": [
    "# Context-specific Gating (XdG)\n",
    "gating_prop = 0.9\n",
    "if scenario==\"task\":\n",
    "    model_xdg.mask_dict = {}\n",
    "    model_xdg.excit_buffer_list = []\n",
    "    for context_id in range(contexts):\n",
    "        model_xdg.mask_dict[context_id + 1] = {}\n",
    "        for i in range(model_xdg.fcE.layers):\n",
    "            # For each fully-connected hidden layer, define for every context a random mask of units to set to zero\n",
    "            layer = getattr(model_xdg.fcE, \"fcLayer{}\".format(i + 1)).linear\n",
    "            if context_id == 0:\n",
    "                model_xdg.excit_buffer_list.append(layer.excit_buffer)\n",
    "            n_units = len(layer.excit_buffer)\n",
    "            gated_units = np.random.choice(n_units, size=int(gating_prop * n_units), replace=False)\n",
    "            model_xdg.mask_dict[context_id + 1][i] = gated_units"
   ]
  },
  {
   "cell_type": "markdown",
   "id": "04975f9b",
   "metadata": {},
   "source": [
    "### Template-based Classification"
   ]
  },
  {
   "cell_type": "code",
   "execution_count": 18,
   "id": "d9e0a292",
   "metadata": {},
   "outputs": [],
   "source": [
    "# Incremental Classification and Represenation Learning (iCaRL)\n",
    "if scenario==\"class\":\n",
    "    model_icarl.use_memory_buffer = True\n",
    "    model_icarl.budget_per_class = 100\n",
    "    model_icarl.sample_selection = 'herding'\n",
    "    model_icarl.norm_exemplars = True\n",
    "    model_icarl.add_buffer = True\n",
    "    model_icarl.prototypes = True\n",
    "    model_icarl.binaryCE = True\n",
    "    model_icarl.binaryCE_distill = True"
   ]
  },
  {
   "cell_type": "markdown",
   "id": "6448262e",
   "metadata": {},
   "source": [
    "## CALLBACKS: Specify callback-functions to get insight into training progress"
   ]
  },
  {
   "cell_type": "code",
   "execution_count": 19,
   "id": "198c0fbf",
   "metadata": {},
   "outputs": [],
   "source": [
    "# Callback-function that provides a tqdm progress bar for during training, reporting training loss and accuracy\n",
    "loss_cbs = [cb._classifier_loss_cb(contexts=contexts, iters_per_context=iters)]"
   ]
  },
  {
   "cell_type": "code",
   "execution_count": 20,
   "id": "7e7cdc33",
   "metadata": {},
   "outputs": [],
   "source": [
    "# Prepare for keeping track of performance (on test set) during training, for later plotting\n",
    "plotting_dict_naive = evaluate.initiate_plotting_dict(contexts)\n",
    "plotting_dict_si = evaluate.initiate_plotting_dict(contexts)\n",
    "plotting_dict_lwf = evaluate.initiate_plotting_dict(contexts)\n",
    "plotting_dict_er = evaluate.initiate_plotting_dict(contexts)\n",
    "if scenario==\"task\":\n",
    "    plotting_dict_xdg = evaluate.initiate_plotting_dict(contexts)\n",
    "if scenario==\"class\":\n",
    "    plotting_dict_icarl = evaluate.initiate_plotting_dict(contexts)"
   ]
  },
  {
   "cell_type": "code",
   "execution_count": 21,
   "id": "6b7b35c6",
   "metadata": {},
   "outputs": [],
   "source": [
    "# Callback-function to track test accuracy during training, for later plotting\n",
    "context_cbs_naive = [\n",
    "    cb._eval_cb(log=iters, test_datasets=test_datasets, plotting_dict=plotting_dict_naive, iters_per_context=iters)\n",
    "]\n",
    "context_cbs_si = [\n",
    "    cb._eval_cb(log=iters, test_datasets=test_datasets, plotting_dict=plotting_dict_si, iters_per_context=iters)\n",
    "]\n",
    "context_cbs_lwf = [\n",
    "    cb._eval_cb(log=iters, test_datasets=test_datasets, plotting_dict=plotting_dict_lwf, iters_per_context=iters)\n",
    "]\n",
    "context_cbs_er = [\n",
    "    cb._eval_cb(log=iters, test_datasets=test_datasets, plotting_dict=plotting_dict_er, iters_per_context=iters)\n",
    "]\n",
    "if scenario==\"task\":\n",
    "    context_cbs_xdg = [\n",
    "        cb._eval_cb(log=iters, test_datasets=test_datasets, plotting_dict=plotting_dict_xdg, iters_per_context=iters)\n",
    "    ]\n",
    "if scenario==\"class\":\n",
    "    context_cbs_icarl = [\n",
    "        cb._eval_cb(log=iters, test_datasets=test_datasets, plotting_dict=plotting_dict_icarl, iters_per_context=iters)\n",
    "    ]"
   ]
  },
  {
   "cell_type": "markdown",
   "id": "1c1c8ab1",
   "metadata": {},
   "source": [
    "## TRAIN: Train the model on the continual learning experiment"
   ]
  },
  {
   "cell_type": "code",
   "execution_count": 22,
   "id": "680da4f9",
   "metadata": {},
   "outputs": [],
   "source": [
    "# Settings for the optimizer to use\n",
    "lr = 0.001           #--> learning rate to use"
   ]
  },
  {
   "cell_type": "code",
   "execution_count": 23,
   "id": "8e3602ca",
   "metadata": {},
   "outputs": [],
   "source": [
    "# For each model, set up the optimizer to use\n",
    "model_list = [model_naive, model_si, model_lwf, model_er]\n",
    "if scenario==\"task\":\n",
    "    model_list.append(model_xdg)\n",
    "if scenario==\"class\":\n",
    "    model_list.append(model_icarl)\n",
    "for model in model_list:\n",
    "    model.optim_list = [{'params': filter(lambda p: p.requires_grad, model.parameters()), 'lr': lr}]\n",
    "    model.optimizer = optim.Adam(model.optim_list, betas=(0.9, 0.999))"
   ]
  },
  {
   "cell_type": "markdown",
   "id": "cc1dd1bb",
   "metadata": {},
   "source": [
    "#### Train all the models using different continual learning methods"
   ]
  },
  {
   "cell_type": "code",
   "execution_count": 24,
   "id": "609facda",
   "metadata": {},
   "outputs": [
    {
     "name": "stderr",
     "output_type": "stream",
     "text": [
      "<CLASSIFIER> | Context: 1/5 | training loss: 1.05e-05 | training accuracy: 1.0 |: 100%|██████████████████████████████| 500/500 [00:10<00:00, 47.20it/s]\n",
      "<CLASSIFIER> | Context: 2/5 | training loss: 0.0128 | training accuracy: 0.992 |: 100%|██████████████████████████████| 500/500 [00:10<00:00, 49.12it/s]\n",
      "<CLASSIFIER> | Context: 3/5 | training loss: 0.000898 | training accuracy: 1.0 |: 100%|██████████████████████████████| 500/500 [00:10<00:00, 48.89it/s]\n",
      "<CLASSIFIER> | Context: 4/5 | training loss: 0.000352 | training accuracy: 1.0 |: 100%|██████████████████████████████| 500/500 [00:10<00:00, 49.36it/s]\n",
      "<CLASSIFIER> | Context: 5/5 | training loss: 0.00319 | training accuracy: 1.0 |: 100%|███████████████████████████████| 500/500 [00:09<00:00, 50.34it/s]\n"
     ]
    }
   ],
   "source": [
    "# Naive baseline\n",
    "train_cl(\n",
    "    model_naive, train_datasets, iters=iters, batch_size=batch, loss_cbs=loss_cbs, context_cbs=context_cbs_naive,\n",
    ")"
   ]
  },
  {
   "cell_type": "code",
   "execution_count": 25,
   "id": "b585d66d",
   "metadata": {},
   "outputs": [
    {
     "name": "stderr",
     "output_type": "stream",
     "text": [
      "<CLASSIFIER> | Context: 1/5 | training loss: 6.23e-05 | training accuracy: 1.0 |: 100%|██████████████████████████████| 500/500 [00:10<00:00, 47.72it/s]\n",
      "<CLASSIFIER> | Context: 2/5 | training loss: 0.0373 | training accuracy: 1.0 |: 100%|████████████████████████████████| 500/500 [00:11<00:00, 43.94it/s]\n",
      "<CLASSIFIER> | Context: 3/5 | training loss: 0.0161 | training accuracy: 1.0 |: 100%|████████████████████████████████| 500/500 [00:11<00:00, 44.69it/s]\n",
      "<CLASSIFIER> | Context: 4/5 | training loss: 0.00592 | training accuracy: 1.0 |: 100%|███████████████████████████████| 500/500 [00:11<00:00, 44.42it/s]\n",
      "<CLASSIFIER> | Context: 5/5 | training loss: 0.0707 | training accuracy: 0.984 |: 100%|██████████████████████████████| 500/500 [00:10<00:00, 47.00it/s]\n"
     ]
    }
   ],
   "source": [
    "# Synaptic Intelligence\n",
    "train_cl(\n",
    "    model_si, train_datasets, iters=iters, batch_size=batch, loss_cbs=loss_cbs, context_cbs=context_cbs_si,\n",
    ")"
   ]
  },
  {
   "cell_type": "code",
   "execution_count": 26,
   "id": "fc974df9",
   "metadata": {},
   "outputs": [
    {
     "name": "stderr",
     "output_type": "stream",
     "text": [
      "<CLASSIFIER> | Context: 1/5 | training loss: 3.24e-06 | training accuracy: 1.0 |: 100%|██████████████████████████████| 500/500 [00:08<00:00, 56.95it/s]\n",
      "<CLASSIFIER> | Context: 2/5 | training loss: 1.46 | training accuracy: 0.992 |: 100%|████████████████████████████████| 500/500 [00:09<00:00, 50.88it/s]\n",
      "<CLASSIFIER> | Context: 3/5 | training loss: 1.97 | training accuracy: 1.0 |: 100%|██████████████████████████████████| 500/500 [00:09<00:00, 52.16it/s]\n",
      "<CLASSIFIER> | Context: 4/5 | training loss: 2.3 | training accuracy: 1.0 |: 100%|███████████████████████████████████| 500/500 [00:09<00:00, 52.21it/s]\n",
      "<CLASSIFIER> | Context: 5/5 | training loss: 2.49 | training accuracy: 1.0 |: 100%|██████████████████████████████████| 500/500 [00:09<00:00, 51.95it/s]\n"
     ]
    }
   ],
   "source": [
    "# Learning without Forgetting\n",
    "train_cl(\n",
    "    model_lwf, train_datasets, iters=iters, batch_size=batch, loss_cbs=loss_cbs, context_cbs=context_cbs_lwf,\n",
    ")"
   ]
  },
  {
   "cell_type": "code",
   "execution_count": 27,
   "id": "f7824f59",
   "metadata": {},
   "outputs": [
    {
     "name": "stderr",
     "output_type": "stream",
     "text": [
      "<CLASSIFIER> | Context: 1/5 | training loss: 9.88e-06 | training accuracy: 1.0 |: 100%|██████████████████████████████| 500/500 [00:09<00:00, 50.40it/s]\n",
      "<CLASSIFIER> | Context: 2/5 | training loss: 0.00253 | training accuracy: 1.0 |: 100%|███████████████████████████████| 500/500 [00:11<00:00, 44.84it/s]\n",
      "<CLASSIFIER> | Context: 3/5 | training loss: 0.00109 | training accuracy: 1.0 |: 100%|███████████████████████████████| 500/500 [00:10<00:00, 47.07it/s]\n",
      "<CLASSIFIER> | Context: 4/5 | training loss: 0.000389 | training accuracy: 1.0 |: 100%|██████████████████████████████| 500/500 [00:09<00:00, 50.39it/s]\n",
      "<CLASSIFIER> | Context: 5/5 | training loss: 0.00527 | training accuracy: 0.984 |: 100%|█████████████████████████████| 500/500 [00:09<00:00, 50.81it/s]\n"
     ]
    }
   ],
   "source": [
    "# Experience Replay\n",
    "train_cl(\n",
    "    model_er, train_datasets, iters=iters, batch_size=batch, loss_cbs=loss_cbs, context_cbs=context_cbs_er,\n",
    ")"
   ]
  },
  {
   "cell_type": "code",
   "execution_count": 28,
   "id": "f00f2631",
   "metadata": {},
   "outputs": [],
   "source": [
    "# XdG\n",
    "if scenario==\"task\":\n",
    "    train_cl(\n",
    "        model_xdg, train_datasets, iters=iters, batch_size=batch, loss_cbs=loss_cbs, context_cbs=context_cbs_xdg,\n",
    "    )"
   ]
  },
  {
   "cell_type": "code",
   "execution_count": 29,
   "id": "54e9c8de",
   "metadata": {},
   "outputs": [
    {
     "name": "stderr",
     "output_type": "stream",
     "text": [
      "<CLASSIFIER> | Context: 1/5 | training loss: 0.000369 | training accuracy: 1.0 |: 100%|██████████████████████████████| 500/500 [00:08<00:00, 55.57it/s]\n",
      "<CLASSIFIER> | Context: 2/5 | training loss: 0.397 | training accuracy: 0.859 |: 100%|███████████████████████████████| 500/500 [00:09<00:00, 50.54it/s]\n",
      "<CLASSIFIER> | Context: 3/5 | training loss: 1.37 | training accuracy: 0.977 |: 100%|████████████████████████████████| 500/500 [00:09<00:00, 51.36it/s]\n",
      "<CLASSIFIER> | Context: 4/5 | training loss: 2.95 | training accuracy: 0.953 |: 100%|████████████████████████████████| 500/500 [00:08<00:00, 55.88it/s]\n",
      "<CLASSIFIER> | Context: 5/5 | training loss: 4.05 | training accuracy: 0.945 |: 100%|████████████████████████████████| 500/500 [00:10<00:00, 49.02it/s]\n"
     ]
    }
   ],
   "source": [
    "# iCaRL\n",
    "if scenario==\"class\":\n",
    "    train_cl(\n",
    "        model_icarl, train_datasets, iters=iters, batch_size=batch, loss_cbs=loss_cbs, context_cbs=context_cbs_icarl,\n",
    "    )"
   ]
  },
  {
   "cell_type": "markdown",
   "id": "41bcf17f",
   "metadata": {},
   "source": [
    "## EVALUATION: Plot average accuracy curves throughout training for compared methods"
   ]
  },
  {
   "cell_type": "code",
   "execution_count": 30,
   "id": "5b128331",
   "metadata": {},
   "outputs": [],
   "source": [
    "# Collect data for the lines to plot\n",
    "lines_to_plot = [\n",
    "    plotting_dict_naive[\"average\"],\n",
    "    plotting_dict_si[\"average\"],\n",
    "    plotting_dict_lwf[\"average\"],\n",
    "    plotting_dict_er[\"average\"]\n",
    "]\n",
    "if scenario==\"task\":\n",
    "    lines_to_plot.append(plotting_dict_xdg[\"average\"])\n",
    "if scenario==\"class\":\n",
    "    lines_to_plot.append(plotting_dict_icarl[\"average\"])"
   ]
  },
  {
   "cell_type": "code",
   "execution_count": 31,
   "id": "ae1533dc",
   "metadata": {},
   "outputs": [],
   "source": [
    "# Specify labels and layout for the plot\n",
    "line_names = ['Naive', 'SI', 'LwF', 'ER']\n",
    "line_colors = ['grey', 'yellowgreen', 'gold', 'red']\n",
    "if scenario==\"task\":\n",
    "    line_names.append('XdG')\n",
    "    line_colors.append('deepskyblue')\n",
    "if scenario==\"class\":\n",
    "    line_names.append('iCaRL')\n",
    "    line_colors.append('purple')"
   ]
  },
  {
   "cell_type": "code",
   "execution_count": 32,
   "id": "9e5b4617",
   "metadata": {},
   "outputs": [
    {
     "data": {
      "image/png": "[encoded data removed]",
      "text/plain": [
       "<Figure size 1200x700 with 1 Axes>"
      ]
     },
     "metadata": {},
     "output_type": "display_data"
    }
   ],
   "source": [
    "# Create the plot\n",
    "figure = visual_plt.plot_lines(\n",
    "    lines_to_plot, x_axes=plotting_dict_naive[\"x_context\"], line_names=line_names, colors=line_colors,\n",
    "    ylabel=\"Test accuracy (averaged over contexts so far)\", ylim=(0,1.05) if scenario==\"class\" else None,\n",
    "    xlabel=\"# of contexts so far\", title=\"{}  --  {}-incremental learning\".format(experiment, scenario)\n",
    ")"
   ]
  },
  {
   "cell_type": "code",
   "execution_count": null,
   "id": "8a5620d1",
   "metadata": {},
   "outputs": [],
   "source": []
  }
 ],
 "metadata": {
  "kernelspec": {
   "display_name": "Python 3 (ipykernel)",
   "language": "python",
   "name": "python3"
  },
  "language_info": {
   "codemirror_mode": {
    "name": "ipython",
    "version": 3
   },
   "file_extension": ".py",
   "mimetype": "text/x-python",
   "name": "python",
   "nbconvert_exporter": "python",
   "pygments_lexer": "ipython3",
   "version": "3.10.8"
  }
 },
 "nbformat": 4,
 "nbformat_minor": 5
}
